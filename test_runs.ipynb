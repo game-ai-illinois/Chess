{
 "cells": [
  {
   "cell_type": "code",
   "execution_count": 1,
   "metadata": {},
   "outputs": [],
   "source": [
    "import chess\n",
    "import numpy as np\n",
    "from chess_env import *\n",
    "from classes import *"
   ]
  },
  {
   "cell_type": "code",
   "execution_count": 2,
   "metadata": {},
   "outputs": [],
   "source": [
    "board = chess.Board()"
   ]
  },
  {
   "cell_type": "code",
   "execution_count": 3,
   "metadata": {},
   "outputs": [],
   "source": [
    "# for move in board.legal_moves:\n",
    "#     print(type(str(move)))\n",
    "# print(type(board.legal_moves))"
   ]
  },
  {
   "cell_type": "code",
   "execution_count": 4,
   "metadata": {
    "scrolled": true
   },
   "outputs": [],
   "source": [
    "# random_move(board)\n",
    "# board"
   ]
  },
  {
   "cell_type": "code",
   "execution_count": 5,
   "metadata": {},
   "outputs": [],
   "source": [
    "input_size = 12\n",
    "network = NN( input_size, 1, 1)"
   ]
  },
  {
   "cell_type": "code",
   "execution_count": 6,
   "metadata": {},
   "outputs": [
    {
     "name": "stdout",
     "output_type": "stream",
     "text": [
      "move dict:  {3590: 'g1h3', 4038: 'g1f3', 3585: 'b1c3', 4033: 'b1a3', 15: 'h2h3', 14: 'g2g3', 13: 'f2f3', 12: 'e2e3', 11: 'd2d3', 10: 'c2c3', 9: 'b2b3', 8: 'a2a3', 79: 'h2h4', 78: 'g2g4', 77: 'f2f4', 76: 'e2e4', 75: 'd2d4', 74: 'c2c4', 73: 'b2b4', 72: 'a2a4'}\n",
      "legal_moves_array zero?  4652\n",
      "1.0\n",
      "sum:  tensor(12.0985, grad_fn=<SumBackward0>)\n",
      "legal_moves_prob_distribution sum  0.999999925494194\n",
      "legal_moves_prob_distribution sum  0.99999994\n",
      "move text:  d2d4\n"
     ]
    },
    {
     "data": {
      "text/plain": [
       "array([0., 0., 0., ..., 0., 0., 0.])"
      ]
     },
     "execution_count": 6,
     "metadata": {},
     "output_type": "execute_result"
    }
   ],
   "source": [
    "play(board, network)"
   ]
  },
  {
   "cell_type": "code",
   "execution_count": null,
   "metadata": {},
   "outputs": [],
   "source": []
  }
 ],
 "metadata": {
  "kernelspec": {
   "display_name": "Python 3",
   "language": "python",
   "name": "python3"
  },
  "language_info": {
   "codemirror_mode": {
    "name": "ipython",
    "version": 3
   },
   "file_extension": ".py",
   "mimetype": "text/x-python",
   "name": "python",
   "nbconvert_exporter": "python",
   "pygments_lexer": "ipython3",
   "version": "3.7.3"
  }
 },
 "nbformat": 4,
 "nbformat_minor": 2
}
